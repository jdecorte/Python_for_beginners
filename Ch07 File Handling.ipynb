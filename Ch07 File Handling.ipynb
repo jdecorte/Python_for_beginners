{
  "cells": [
    {
      "cell_type": "markdown",
      "id": "6271389cc94586f81097d52ad8602340",
      "metadata": {},
      "source": [
        "# 7. File Handling\n",
        "<span id=\"chapters_ch8_file_handling_file_handling\"> </span>\n",
        "<span id=\"chapters_ch8_file_handling__doc\"> </span>\n",
        "\n",
        "All variables used in a program are kept in the main memory and they are\n",
        "*volatile*, i.e., their values are lost when the program ends. Even if\n",
        "you write a program that runs forever, your data will be lost in case of a\n",
        "shutdown or power failure.\n",
        "\n",
        "Another drawback of the main memory is the capacity limitation. In the\n",
        "extreme case, when you need more than a couple of gigabytes for your\n",
        "variables, it will be difficult to keep all of them in the main memory.\n",
        "In particular, infrequently required data is better kept on an\n",
        "external storage device instead of the main memory.\n",
        "\n",
        "*Files* provide a mechanism for storing data *persistently* on hard drives that provide significantly larger storage than the main memory.\n",
        "These devices are also called *secondary storage* devices. The data you\n",
        "put in a file will stay on the hard drive until someone overwrites or\n",
        "deletes the file (or when the hard drive fails, which is an unfortunate but rare\n",
        "case).\n",
        "\n",
        "A *file* is a sequence of bytes stored on the secondary storage,\n",
        "typically hard drive (alternative secondary storage devices include CD,\n",
        "DVD, USB disk, tape drive). Data in a file have the following differences\n",
        "from data in memory (variables):\n",
        "  1. A file is just a sequence of bytes. Therefore, data in a file is\n",
        "     unorganized, there is no data type, and there are no variable boundaries.\n",
        "  1. Data must be accessed indirectly, using I/O functions. For example, \n",
        "     updating a value in a file requires reading it into the main memory, updating it in the main\n",
        "     memory, and then writing it back into the file.\n",
        "  1. Accessing and updating data are significantly slower since it is on a slow\n",
        "     external device.\n",
        "\n",
        "Keeping data in a file instead of the main memory has the following use\n",
        "cases:\n",
        "\n",
        "  1. Data needs to be persistent. Data will be in the file when you\n",
        "     restart your program, reboot your machine, or when you find your\n",
        "     ancient laptop in the basement 30 years later (probably it will not\n",
        "     be there when an AD 3000 archaeologist finds your laptop on an\n",
        "     excavation site. Hard disks are not that durable. Therefore, persistence is\n",
        "     bounded).\n",
        "\n",
        "  1. You need to exchange data with another program.  \n",
        "     Examples:\n",
        "     *  You download data from the Web and your program gets it as input.\n",
        "     *  You would like to generate data in your program and put it on a\n",
        "        spreadsheet for further processing.  \n",
        "\n",
        "  1. You have a large amount of data that does not fit in the main memory.\n",
        "     In this case, you will probably use a library or software like a\n",
        "     database management system to access data in a faster and more organized\n",
        "     way. Files are the most primitive, basic way of achieving it.\n",
        "\n",
        "In this chapter, we will talk about simple file access so that you will\n",
        "learn about simple file operations such as opening, closing, reading, and writing. The\n",
        "examples of the chapter will create and modify files when run – we\n",
        "strongly encourage you to check the contents of the created files.\n",
        "\n",
        "\n",
        "\n",
        "## 7.1 First Example\n",
        "<span id=\"chapters_ch8_file_handling_first_example\"> </span>\n",
        "\n",
        "Let us quickly look at a simple example to get a feeling for the\n",
        "different steps involved in working with files."
      ]
    },
    {
      "cell_type": "code",
      "execution_count": 1,
      "id": "969166dbb1ad99785ebf4373273100d0",
      "metadata": {
        "collapsed": false,
        "jupyter": {
          "outputs_hidden": false
        }
      },
      "outputs": [],
      "source": [
        "fpointer = open('firstexample.txt',\"w\")\n",
        "fpointer.write(\"hello\\n\")\n",
        "fpointer.write(\"how are\\n\")\n",
        "fpointer.write(\"you?\\n\")\n",
        "fpointer.close()"
      ]
    },
    {
      "cell_type": "markdown",
      "id": "80cafe05c966795eb7be5dad9e7145db",
      "metadata": {},
      "source": [
        "The program above will create a file in the current directory with\n",
        "filename `firstexample.txt`. You can open it with your favorite text\n",
        "editor (there are plenty of text editors for all operating systems: notepad,\n",
        "wordpad, textedit, nano, vim) to see and edit it. The content will look\n",
        "like this:\n",
        "\n",
        "```python\n",
        "hello\n",
        "how are\n",
        "you?\n",
        "```\n",
        "\n",
        "The first line of the program is\n",
        "`fpointer = open('firstexample.txt',\"w\")`. This line opens the file\n",
        "named `firstexample.txt` for writing to it. If the file exists, its\n",
        "content will be erased (and it will be an empty file afterward). The result\n",
        "of `open()` is a file object that we will use in the following lines.\n",
        "This object is assigned to the variable `fpointer`.\n",
        "In the following lines, all functions we call with this file object\n",
        "`fpointer` will work on the corresponding file (i.e., `firstexample.txt`). This\n",
        "special *dot* notation helps us with calling functions in the scope of the\n",
        "file. `fpointer.`*functionname*`()` will call the *functionname*\n",
        "function for this file. `write(string)` function will write the\n",
        "`string` content to the file. Each call to `write(string)` will\n",
        "append the `string` to the file and the file will grow. At the end,\n",
        "when we are done, we call `close()` to finish accessing the file so\n",
        "that your operating system will know and take necessary actions.\n",
        "All open files will be closed when your program terminates. However,\n",
        "calling `close()` after finishing writing is a good programming\n",
        "practice.\n",
        "Now, let us read this file:"
      ]
    },
    {
      "cell_type": "code",
      "execution_count": 2,
      "id": "68e354e693834194c1c83ab030d7b67d",
      "metadata": {
        "collapsed": false,
        "jupyter": {
          "outputs_hidden": false
        }
      },
      "outputs": [
        {
          "name": "stdout",
          "output_type": "stream",
          "text": [
            "hello\n",
            "how are\n",
            "you?\n",
            "\n"
          ]
        }
      ],
      "source": [
        "fp = open(\"firstexample.txt\",\"r\")\n",
        "content = fp.read()\n",
        "fp.close()\n",
        "print(content)"
      ]
    },
    {
      "cell_type": "markdown",
      "id": "101f9ddb008c2fb959bd67795328239d",
      "metadata": {},
      "source": [
        "\n",
        "In this case, we called `open()` with argument `\"r\"` which tells the interpreter \n",
        "that we are going to read the file (or use it as input source). If\n",
        "you skip the second argument in `open()`, it is assumed to be `\"r\"`,\n",
        "so `open(\"firstexample.txt\")` will be equivalent. \n",
        "\n",
        "The `read()` function \n",
        "gets an optional argument, which is the number of bytes to read. If you\n",
        "skip it, it will read the entire file content and return it as a string.\n",
        "Therefore, after the call, the `content` variable will be a string\n",
        "with the file content.\n",
        "\n",
        "\n",
        "\n",
        "## 7.2 Files and Sequential Access\n",
        "<span id=\"chapters_ch8_file_handling_files_and_sequential_access\"> </span>\n",
        "\n",
        "A file consists of bytes, and `read/write` operations access those\n",
        "bytes *sequentially*. In sequential access, the current I/O operation\n",
        "updates the file state so that the next I/O operation will resume from the\n",
        "end of the current I/O operation.\n",
        "\n",
        "Assume that you have an old MP3 player that supports only the “*play me next 10\n",
        "seconds*” operation on a button. Pressing it will play the next 10\n",
        "seconds of the song. When you press again, it will resume from where it\n",
        "is left off and play for another 10 seconds. This follows until the song is\n",
        "over. The sequential access is similar. A *file pointer* keeps the\n",
        "current offset of the file and each I/O operation advances it so that the\n",
        "next call will read or write from this new offset – see <a href=\"#chapters_ch8_file_handling_ch8_file_handling\">Fig. 8.1</a>.\n",
        "\n",
        "\n",
        "<figure>\n",
        "<span id=\"chapters_ch8_file_handling_id1\"> </span>\n",
        "<span id=\"chapters_ch8_file_handling_ch8_file_handling\"> </span>\n",
        "\n",
        "<center><img src=\"img/fig8-1.png\" width=\"450pt\"></center>\n",
        "\n",
        "<figcaption>Figure 8.1: Sequential reading of a file </figcaption>\n",
        "</figure>\n",
        "\n",
        "The following is a sample program illustrating sequential access:"
      ]
    },
    {
      "cell_type": "code",
      "execution_count": 3,
      "id": "ebee929395ec7cd146015240ca182027",
      "metadata": {
        "collapsed": false,
        "jupyter": {
          "outputs_hidden": false
        }
      },
      "outputs": [
        {
          "name": "stdout",
          "output_type": "stream",
          "text": [
            ">  hell\n",
            ">  o\n",
            "ho\n",
            ">  w ar\n"
          ]
        }
      ],
      "source": [
        "fp = open(\"firstexample.txt\",\"r\") # the example file we created above\n",
        "\n",
        "for i in range(3):          # repeat 3 times\n",
        "   content = fp.read(4)     # read 4 bytes in each step\n",
        "   print(\"> \", content)     # output 4 bytes preceded by >\n",
        "\n",
        "fp.close()"
      ]
    },
    {
      "cell_type": "markdown",
      "id": "6172e7e3aae38d1d9025314da851b9a7",
      "metadata": {},
      "source": [
        "\n",
        "The text in the file was:\n",
        "\n",
        "\n",
        "```python\n",
        "hello\n",
        "how are\n",
        "you?\n",
        "```\n",
        "\n",
        "The first `read()` reads `'hell'`, the second reads `'o\\nho'`(note that `\\n` stands for a new line so that `ho` is printed on a\n",
        "new line), and the third reads `'w ar'`. After these operations, the\n",
        "file offset is left at a position so that the following reads will\n",
        "resume from content `'e\\nyou\\n'`.\n",
        "\n",
        "We provided the example with 4-byte read operations. However, for text\n",
        "files, the typical scenario is reading characters line by line instead\n",
        "of fixed size strings.\n",
        "\n",
        "\n",
        "\n",
        "## 7.3 Data Conversion and Parsing\n",
        "<span id=\"chapters_ch8_file_handling_data_conversion_and_parsing\"> </span>\n",
        "\n",
        "A file, specifically a text file, consists of strings. However,\n",
        "especially in engineering and science, we work with numbers. A number is\n",
        "represented in a text file as a sequence of characters including digits,\n",
        "a sign prefix (`'-'` and `'+'`) and at most one occurrence of a dot\n",
        "(`'.'`). That means you may use $\\pi$ as\n",
        "`3.1416` in your Python program. However, in the text file, you store `'3.1416'`, which is a\n",
        "string consisting of chars `'3','.','1','4','1','6'`.\n"
      ]
    },
    {
      "cell_type": "code",
      "execution_count": 4,
      "id": "5f27e2bf97f33c9ee268deed8be9dc00",
      "metadata": {
        "collapsed": false,
        "jupyter": {
          "outputs_hidden": false
        }
      },
      "outputs": [
        {
          "name": "stdout",
          "output_type": "stream",
          "text": [
            "6.2832 : 9.4248\n",
            "3.14163.1416 : 3.14163.14163.1416\n"
          ]
        }
      ],
      "source": [
        "pi = 3.1416\n",
        "pistr = '3.1416'\n",
        "print(pi+pi,':', pi * 3)\n",
        "print(pistr+pistr,':', pistr *3)"
      ]
    },
    {
      "cell_type": "markdown",
      "id": "09594b629803e58c990daa0f5daae020",
      "metadata": {},
      "source": [
        "\n",
        "Note that the second line of output above is a result of Python\n",
        "interpreting `+` operator as string concatenation, and `*` as\n",
        "adjoining multiple copies of a string. If we need to treat numbers as\n",
        "numbers, we need to convert them from strings. There are two handy\n",
        "functions for this: `int()` and `float()` convert a string into an\n",
        "integer and a floating point value, respectively. Here is an\n",
        "illustration:\n"
      ]
    },
    {
      "cell_type": "code",
      "execution_count": 5,
      "id": "f72395d00e79b39006fda02fd74e6898",
      "metadata": {
        "collapsed": false,
        "jupyter": {
          "outputs_hidden": false
        }
      },
      "outputs": [
        {
          "name": "stdout",
          "output_type": "stream",
          "text": [
            "6.2832 94\n"
          ]
        }
      ],
      "source": [
        "pistr = '  0.31416E01  '\n",
        "nstr = ' 47 '\n",
        "\n",
        "# Convert numbers in the strings into numerical data types:\n",
        "piflt = float(pistr)\n",
        "nint = int(nstr)\n",
        "\n",
        "print(piflt*2, nint*2)"
      ]
    },
    {
      "cell_type": "markdown",
      "id": "f4939359be446fb970239362f6727091",
      "metadata": {},
      "source": [
        "\n",
        "Note that we cannot call `int('3.1416')` since the string is not a\n",
        "valid integer. That brings us another challenge of making sure that\n",
        "the strings we need to convert are actually numbers. Obviously, \n",
        "`int('hello')` and `float('one point five')` will not work either. \n",
        "The mechanisms for dealing with such errors are left for the next chapter. In this\n",
        "chapter, we assume that we have our data carefully created and all\n",
        "conversions work without any error.\n",
        "\n",
        "Our next challenge is having multiple numbers in a string separated by\n",
        "special characters or simply spaces, e.g., `'10.0 5.0 5.0'`. In this case,\n",
        "we need to decompose a string into string pieces representing numbers,\n",
        "so that we will have `'10.0','5.0','5.0'` for the above string. The\n",
        "next step will be converting them into numbers:\n",
        "\n",
        "`'10.0 5.0 5.0' `$\\overset{Step\\;1}{\\longrightarrow}$ `['10.0','5.0','5.0']` $\\overset{Step\\;2}{\\longrightarrow}$ `[10.0, 5.0, 5.0]`\n",
        "\n",
        "For the first step, we will use the `split()` method of a string.\n",
        "A string, or the variable containing the string, is followed by\n",
        "`.split(delimiter)`, which returns a list of strings separated by the\n",
        "given delimiters. The delimiters are removed and all values in between\n",
        "are put in the list – for example:\n"
      ]
    },
    {
      "cell_type": "code",
      "execution_count": 6,
      "id": "0ccc2989af13bc7f725c6cc9a376c1c8",
      "metadata": {
        "collapsed": false,
        "jupyter": {
          "outputs_hidden": false
        }
      },
      "outputs": [
        {
          "name": "stdout",
          "output_type": "stream",
          "text": [
            "['a', 'b', 'c']\n",
            "['hello', 'darkness,', 'my', 'old', 'friend']\n",
            "['a', 'b', 'c']\n",
            "['multiple', '', '', '', '', '', '', 'spaces', '', '', '', '', '', '', '', '', '', 'are', '', '', '', '', '', '', '', '', 'tricky']\n",
            "['10.0', '5.0', '5.0']\n"
          ]
        }
      ],
      "source": [
        "print('a:b:c'.split(':'))\n",
        "print('hello darkness, my old friend'.split(' '))\n",
        "print('a <=> b <=> c'.split(' <=> '))\n",
        "print('multiple       spaces          are         tricky'.split(' '))\n",
        "a = '10.0 5.0 5.0'\n",
        "print(a.split(' '))"
      ]
    },
    {
      "cell_type": "markdown",
      "id": "0360bafd83b143d650a887c7f92f0532",
      "metadata": {},
      "source": [
        "\n",
        "For the second step, we will use the `float()` function on a list (or\n",
        "the `int()` function if you have a list of integers). We have a couple\n",
        "of options for this. One is to start from an empty list and append the\n",
        "converted value at each step:\n"
      ]
    },
    {
      "cell_type": "code",
      "execution_count": 7,
      "id": "27d2d895924e77af45629e1b7e07544d",
      "metadata": {
        "collapsed": false,
        "jupyter": {
          "outputs_hidden": false
        }
      },
      "outputs": [
        {
          "name": "stdout",
          "output_type": "stream",
          "text": [
            "[10.0, 5.0, 5.0]\n"
          ]
        }
      ],
      "source": [
        "instr = '10.0 5.0 5.0'\n",
        "outlst = []\n",
        "\n",
        "# Go over each substring\n",
        "for substr in instr.split(' '):\n",
        "  outlst += [float(substr)]    # Convert each element to float and append it to the list\n",
        "\n",
        "print(outlst)"
      ]
    },
    {
      "cell_type": "markdown",
      "id": "075085a29d67f5a44137f3c81835b444",
      "metadata": {},
      "source": [
        "\n",
        "A more practical and faster version will be list comprehension, which is\n",
        "the compact version of mapping a value into another as:\n"
      ]
    },
    {
      "cell_type": "code",
      "execution_count": 8,
      "id": "75b989b3def3dfb3ebeb16262304e788",
      "metadata": {
        "collapsed": false,
        "jupyter": {
          "outputs_hidden": false
        }
      },
      "outputs": [
        {
          "name": "stdout",
          "output_type": "stream",
          "text": [
            "[10.0, 5.0, 5.0]\n"
          ]
        }
      ],
      "source": [
        "instr = '10.0 5.0 5.0'\n",
        "\n",
        "outlst = [float(substr) for substr in instr.split(' ')]\n",
        "\n",
        "print(outlst)"
      ]
    },
    {
      "cell_type": "markdown",
      "id": "443f91cf12f2e4f90ab0fbacabca751b",
      "metadata": {},
      "source": [
        "\n",
        "As we have explained in Section 5.2.6, the syntax is similar to the set/list\n",
        "notation in mathematics:\n",
        "\n",
        "$\\left\\{float(s) \\; \\vert \\; s \\in S\\right\\}$\n",
        "vs. `[float(s) for s in S]`\n",
        "\n",
        "If you need to have multiple spaces within the values, you can use\n",
        "“`import re`” and call “`re.split(' +', inputstr)`” instead of\n",
        "“`inputstr.split(' ')`”. This will split the\n",
        "`'multiple        spaces   are    tricky'` example above into 4 words\n",
        "without spaces. How it works is beyond the scope of the book. Curious\n",
        "readers can refer to the “`re`” and “`parse`” modules for more advanced\n",
        "forms of input parsing. These are not trivial modules for beginners.\n",
        "\n",
        "Now, let us consider the reverse of the operation: Assume we have a list\n",
        "of integers and we like to convert that into a string that can be written\n",
        "to a file. For this, we follow the inverse of the steps: \n",
        "\n",
        "`[10.0, 5.0, 5.0]`$\\overset{Step\\;1}{\\longrightarrow}$ `[\"10.0\",\"5.0\",\"5.0\"]` $\\overset{Step\\;2}{\\longrightarrow}$ `\"10.0 5.0 5.0\"`\n",
        "\n",
        "The first step will be handled with the `str()` function which\n",
        "converts any Python value into a human-readable string:\n"
      ]
    },
    {
      "cell_type": "code",
      "execution_count": 9,
      "id": "451d04d52b99d749255c6c1b78748d92",
      "metadata": {
        "collapsed": false,
        "jupyter": {
          "outputs_hidden": false
        }
      },
      "outputs": [
        {
          "name": "stdout",
          "output_type": "stream",
          "text": [
            "['10.0', '5.0', '5.0']\n"
          ]
        }
      ],
      "source": [
        "inlst = [10.0, 5.0, 5.0]\n",
        "\n",
        "outlst = [str(num) for num in inlst]\n",
        "\n",
        "print(outlst)"
      ]
    },
    {
      "cell_type": "markdown",
      "id": "7ef58de2f0c6e383c30016628611a28c",
      "metadata": {},
      "source": [
        "\n",
        "The next step is to join those elements with a delimiter, which is\n",
        "the reverse of the `split()` operation. Not by accident, the name of this\n",
        "operation is `join()`. `join()` is a method of the delimiter string\n",
        "and list is the argument.\n",
        "`':'.join(['hello','how','are','you?'])` returns\n",
        "`'hello:how:are:you?'`.\n"
      ]
    },
    {
      "cell_type": "code",
      "execution_count": 10,
      "id": "cd6479eccca45ed99b1ae31087d5bf75",
      "metadata": {
        "collapsed": false,
        "jupyter": {
          "outputs_hidden": false
        }
      },
      "outputs": [
        {
          "name": "stdout",
          "output_type": "stream",
          "text": [
            "10.0 5.0 5.0\n"
          ]
        }
      ],
      "source": [
        "inlst = [10.0, 5.0, 5.0]\n",
        "\n",
        "outlst = [str(num) for num in inlst]\n",
        "\n",
        "print(' '.join(outlst))"
      ]
    },
    {
      "cell_type": "markdown",
      "id": "67e38639cd330e0ac6e517794df593fc",
      "metadata": {},
      "source": [
        "\n",
        "A more advanced way of converting values into strings is called\n",
        "*formatted output* and briefly introduced in <a href=\"#chapters_ch8_file_handling_formatting_files\">Section 8.7</a>.\n",
        "\n",
        "\n",
        "\n",
        "## 7.4 Accessing Text Files Line by Line\n",
        "<span id=\"chapters_ch8_file_handling_accessing_text_files_line_by_line\"> </span>\n",
        "\n",
        "Files consisting of human-readable strings are called *text files*.\n",
        "Text files consist of strings separated by the *end-of-line* character\n",
        "`'\\n'`, also known as *new line*. The sequence of characters in a file\n",
        "contains the end-of-line characters so that a text editor will end the\n",
        "current line and show the following characters on a new line. We use\n",
        "end-of-line characters so that logically relevant data is on the same\n",
        "line. For example:\n",
        "\n",
        "\n",
        "```python\n",
        "4\n",
        "10.0 20.0\n",
        "15.5 22.2\n",
        "3 44\n",
        "10 10.5\n",
        "```\n",
        "\n",
        "Let us assume the integer value `4` on the first line denotes how many\n",
        "lines will follow. Assume also that each of the following 4 lines has\n",
        "two real values, denoting $x$ and $y$ values of a point. In\n",
        "this way, we can represent our input separated by the end-of-line characters\n",
        "for each point and by the space character for each value in a line.\n",
        "\n",
        "Let us create such a text file from a Python list. Please note that the\n",
        "file `read()` function returns a string and the `write()` function expects\n",
        "a string argument. In other words, calling `write(3.14)` will fail. In order to\n",
        "make the conversion, we use the `str()` function for numeric values\n",
        "and call `write(str(3.14))` instead. Another tricky point is that\n",
        "`write()` does not put the end-of-line character automatically. You need\n",
        "to insert it in the output string or call an extra `write(\"\\n\")`.\n"
      ]
    },
    {
      "cell_type": "code",
      "execution_count": 11,
      "id": "03a1298fb2a48efc36a99aef586d685d",
      "metadata": {
        "collapsed": false,
        "jupyter": {
          "outputs_hidden": false
        }
      },
      "outputs": [
        {
          "name": "stdout",
          "output_type": "stream",
          "text": [
            "4\n",
            "0 0\n",
            "10 0\n",
            "10 10\n",
            "0 10\n",
            "\n"
          ]
        }
      ],
      "source": [
        "pointlist = [(0,0), (10,0), (10,10), (0,10)]\n",
        "\n",
        "fp = open(\"pointlist.txt\", \"w\")       # open file for writing\n",
        "fp.write(str(len(pointlist)))         # write list length\n",
        "fp.write('\\n')\n",
        "\n",
        "# Go over each point in the list\n",
        "for (x,y) in pointlist:              # for each x,y value in the list\n",
        "    fp.write(str(x))                   # write x\n",
        "    fp.write(' ')                      # space as number separator\n",
        "    fp.write(str(y))                   # write y\n",
        "    fp.write('\\n')                     # \\n as line separator\n",
        "\n",
        "fp.close()\n",
        "\n",
        "# let us read the content to verify what we wrote\n",
        "fp = open(\"pointlist.txt\")           # open for reading\n",
        "content = fp.read()\n",
        "print(content)\n",
        "fp.close()"
      ]
    },
    {
      "cell_type": "markdown",
      "id": "cdfe5bd5ef675666b66b91a23bd75338",
      "metadata": {},
      "source": [
        "\n",
        "Using `read()` will get the whole content of the file; if the file is\n",
        "large, your program would use too much memory and processing the data\n",
        "will be difficult. In such a situation, we can access a text file line by\n",
        "line using the `readline()` function.\n",
        "Let us write a program to read and output the content of a text file. We\n",
        "need a loop to read the file line by line and output. Here, when we are\n",
        "going to stop the loop is crucial. Python’s `read()` and `readline()`\n",
        "functions return an empty string (`''`) when there is nothing left to\n",
        "read. We can use this to stop reading:\n"
      ]
    },
    {
      "cell_type": "code",
      "execution_count": 12,
      "id": "e5af73849e8fbe3ae7712b3783e17008",
      "metadata": {
        "collapsed": false,
        "jupyter": {
          "outputs_hidden": false
        }
      },
      "outputs": [
        {
          "name": "stdout",
          "output_type": "stream",
          "text": [
            "4\n",
            "\n",
            "0 0\n",
            "\n",
            "10 0\n",
            "\n",
            "10 10\n",
            "\n",
            "0 10\n",
            "\n"
          ]
        }
      ],
      "source": [
        "fp = open(\"pointlist.txt\")              # open file for reading\n",
        "\n",
        "nextline = fp.readline()                # read the first line\n",
        "while nextline != '':                   # while read is successful\n",
        "    print(nextline)                       # output the line\n",
        "    nextline = fp.readline()              # read the nextline\n",
        "\n",
        "fp.close()                              # when nextline == '' loop terminates"
      ]
    },
    {
      "cell_type": "markdown",
      "id": "42cdc37bc45ad2a194a86f0fd05869b2",
      "metadata": {},
      "source": [
        "\n",
        "Please note the empty lines between each output line. This is due to\n",
        "the `'\\n'` character at the end of the string that `readline()` returns.\n",
        "In other words, `readline()` keeps the new line character it reads.\n",
        "`print()` puts an end-of-line after the output (this can be suppressed\n",
        "by adding an `end=''` argument). As a result, we have the extra\n",
        "end-of-line at the end of each line. In order to avoid it, you can call\n",
        "`rstrip('\\n')` on the returned string to remove the end-of-line. The new\n",
        "code will be:\n"
      ]
    },
    {
      "cell_type": "code",
      "execution_count": 13,
      "id": "61b0a57d9e8ae1b28ed3bc0c8c844ad5",
      "metadata": {
        "collapsed": false,
        "jupyter": {
          "outputs_hidden": false
        }
      },
      "outputs": [
        {
          "name": "stdout",
          "output_type": "stream",
          "text": [
            "4\n",
            "0 0\n",
            "10 0\n",
            "10 10\n",
            "0 10\n"
          ]
        }
      ],
      "source": [
        "fp = open(\"pointlist.txt\")              # open file for reading\n",
        "\n",
        "nextline = fp.readline()                # read the first line\n",
        "while nextline != '':                   # while read is successful\n",
        "    nextline = nextline.rstrip('\\n')      # remove occurrences of '\\n' at the end\n",
        "    print(nextline)                       # output the line\n",
        "    nextline = fp.readline()              # read the nextline\n",
        "\n",
        "fp.close()"
      ]
    },
    {
      "cell_type": "markdown",
      "id": "6471dae2c4748d0b338407bad7722ca5",
      "metadata": {},
      "source": [
        "\n",
        "Converting this file into the initial Python list\n",
        "`[(0,0), (10,0), (10,10), (0,10)]` is our next challenge. This\n",
        "requires conversion of a string as `\"0 0\\n\"` into `(0,0)`. The first\n",
        "one is of type `str` whereas the second is a tuple of numeric values.\n",
        "We can use `int()` or `float()` functions to convert strings into\n",
        "numbers. Note that the string should contain a valid representation of a\n",
        "Python numeric value: `int(\"hello\")` will raise an error.\n",
        "\n",
        "The second issue is separating two numbers in the same string. We can\n",
        "use `split()` function followed by the separator string as in\n",
        "`nextline.split(' ')`. This call will return a sequence of strings from a string. \n",
        "If the separator does not occur in the string, it will return a list with one element. \n",
        "If there is one separator, it will return two elements. For $n$ occurrences of the separator, it will\n",
        "return a list with $n-1$ elements.\n",
        "\n",
        "Here is the solution in Python:\n"
      ]
    },
    {
      "cell_type": "code",
      "execution_count": 14,
      "id": "c00ccc27aeff7d8569cea4ac1079ce2b",
      "metadata": {
        "collapsed": false,
        "jupyter": {
          "outputs_hidden": false
        }
      },
      "outputs": [
        {
          "name": "stdout",
          "output_type": "stream",
          "text": [
            "[(0.0, 0.0), (10.0, 0.0), (10.0, 10.0), (0.0, 10.0)]\n"
          ]
        }
      ],
      "source": [
        "fp = open(\"pointlist.txt\")              # open file for reading\n",
        "\n",
        "pointlist = []                          # start with empty list\n",
        "\n",
        "nextline = fp.readline()                # read the first line\n",
        "n = int(nextline)                       # find number of lines to read\n",
        "\n",
        "for i in range(n):                      # repeat n times\n",
        "    nextline = fp.readline()              # read the nextline\n",
        "    nextline = nextline.rstrip('\\n')      # remove occurrences of '\\n' at the end\n",
        "    (x, y) = nextline.split(' ')          # get x and y (note that they are still strings)\n",
        "    x = float(x)                          # convert them into real values\n",
        "    y = float(y)\n",
        "    pointlist.append( (x,y) )             # add tuple at the end\n",
        "\n",
        "fp.close()\n",
        "print(pointlist)                        # output the resulting list"
      ]
    },
    {
      "cell_type": "markdown",
      "id": "f1f4814fc7d27c0c42ac1f27a2ca5eca",
      "metadata": {},
      "source": [
        "## 7.5 Termination of Input\n",
        "<span id=\"chapters_ch8_file_handling_termination_of_input\"> </span>\n",
        "\n",
        "There are two ways to stop reading input:\n",
        "  1. By reading a definite number of items.\n",
        "  1. By the end of the file.\n",
        "\n",
        "In our previous examples, we read an integer that told us how many lines\n",
        "followed in the file. Then, we called `readline()` in a `for` loop\n",
        "with the given number of lines. This is an example of the first case\n",
        "which provides a definite number of items.\n",
        "\n",
        "The alternative is to read lines in a `while` loop until a termination\n",
        "condition arises. The termination condition is usually the *end of\n",
        "file*, the case where functions like `read()` and `readline()`\n",
        "return an empty string `''`.\n"
      ]
    },
    {
      "cell_type": "code",
      "execution_count": 15,
      "id": "8d514e382d00e8757ffcf4774987b573",
      "metadata": {
        "collapsed": false,
        "jupyter": {
          "outputs_hidden": false
        }
      },
      "outputs": [
        {
          "name": "stdout",
          "output_type": "stream",
          "text": [
            "[(0.0, 0.0), (10.0, 0.0), (10.0, 10.0), (0.0, 10.0)]\n"
          ]
        }
      ],
      "source": [
        "fp = open(\"pointlist.txt\")              # open file for reading\n",
        "\n",
        "pointlist = []                          # start with empty list\n",
        "nextline = fp.readline()                # skip the first line (4) since we don't need it\n",
        "\n",
        "nextline = fp.readline()                # read the first line\n",
        "while nextline != '':                   # until end of file\n",
        "    nextline = nextline.rstrip('\\n')    # remove occurrences of '\\n' at the end\n",
        "    (x, y) = nextline.split(' ')        # get x and y (note that they are still strings)\n",
        "    x = float(x)                        # convert them into real values\n",
        "    y = float(y)\n",
        "    pointlist.append( (x,y) )           # add tuple at the end\n",
        "    nextline = fp.readline()              # read the nextline\n",
        "\n",
        "fp.close()\n",
        "print(pointlist)"
      ]
    },
    {
      "cell_type": "markdown",
      "id": "9145adb6bb0f81255164f31094a187dc",
      "metadata": {},
      "source": [
        "\n",
        "Note that the example above skips (reads and throws away) the first line in our input file\n",
        "so that the integer on the first line is ignored. When your input does\n",
        "not contain such an unnecessary value, you can delete this line.\n",
        "\n",
        "Sometimes termination can be marked explicitly by a *sentinel value*\n",
        "which is a value marking the end of values. This is especially useful\n",
        "when you have multiple objects to read:\n"
      ]
    },
    {
      "cell_type": "code",
      "execution_count": 16,
      "id": "4cd4dc319e95b61a9ab8f15bdef84d1b",
      "metadata": {
        "collapsed": false,
        "jupyter": {
          "outputs_hidden": false
        }
      },
      "outputs": [],
      "source": [
        "# First, create a file named `twopointlists.txt`\n",
        "fp = open(\"twopointlists.txt\", \"w\")\n",
        "fp.write(\"\"\"3 0\n",
        "3.4 2.1\n",
        "5.1 3.2\n",
        "EOLIST\n",
        "1 1.5\n",
        "2.0 2.5\"\"\")\n",
        "fp.close()"
      ]
    },
    {
      "cell_type": "markdown",
      "id": "536c8da5f36d4a93ca01ff8bd10b0774",
      "metadata": {},
      "source": [
        "In this input, there are two lists with arbitrary sizes and we use a word of our choice, `EOLIST` to separate them. \n",
        "We can use the `EOLIST` word to input distinct lists as follows:"
      ]
    },
    {
      "cell_type": "code",
      "execution_count": 17,
      "id": "4564acf3b5f84d6c42b86e492403f9d6",
      "metadata": {
        "collapsed": false,
        "jupyter": {
          "outputs_hidden": false
        }
      },
      "outputs": [
        {
          "name": "stdout",
          "output_type": "stream",
          "text": [
            "List 1: [(3.0, 0.0), (3.4, 2.1), (5.1, 3.2)]\n",
            "List 2: [(1.0, 1.5), (2.0, 2.5)]\n"
          ]
        }
      ],
      "source": [
        "fp = open(\"twopointlists.txt\")\n",
        "pntlst1 = []                            # start with empty list\n",
        "pntlst2 = []                            # start with empty list\n",
        "\n",
        "nextline = fp.readline()                # read the first line\n",
        "while nextline != 'EOLIST\\n':           # sentinel value\n",
        "    nextline = nextline.rstrip('\\n')    # remove occurrences of '\\n' at the end\n",
        "    (x, y) = nextline.split(' ')        # get x and y (note that they are still strings)\n",
        "    x = float(x)                        # convert them into real values\n",
        "    y = float(y)\n",
        "    pntlst1.append( (x,y) )             # add tuple at the end\n",
        "    nextline = fp.readline()            # read the nextline\n",
        "\n",
        "# first list has been read, now continue with the second list from the same file\n",
        "nextline = fp.readline() \n",
        "while nextline != '':                   # until end of file\n",
        "    nextline = nextline.rstrip('\\n')    # remove occurrences of '\\n' at the end\n",
        "    (x, y) = nextline.split(' ')        # get x and y (note that they are still strings)\n",
        "    x = float(x)                        # convert them into real values\n",
        "    y = float(y)\n",
        "    pntlst2.append( (x,y) )             # add tuple at the end\n",
        "    nextline = fp.readline()            # read the nextline\n",
        "\n",
        "fp.close()\n",
        "print('List 1:', pntlst1)\n",
        "print('List 2:', pntlst2)"
      ]
    },
    {
      "cell_type": "markdown",
      "id": "cb56a7db385f66a412d43450c405b8f1",
      "metadata": {},
      "source": [
        "## 7.6 Example: Processing CSV Files\n",
        "<span id=\"chapters_ch8_file_handling_example_processing_csv_files\"> </span>\n",
        "**CSV** stands for *Comma Separated Value*; it is a text-based format\n",
        "for exporting/importing *spreadsheet* (i.e., Excel) data. Each row in a CSV file is separated by a newline, and each column is separated by a comma\n",
        "(`,`). Actually, the format is more complex but for the time being, let\n",
        "us ignore commas that might be appearing in strings and focus on a simple\n",
        "form as follows:\n",
        "\n",
        "\n",
        "```python\n",
        "Name,Surname,Age\n",
        "Ada,Lovelace,37\n",
        "John,von Neumann,53\n",
        "Alan,Turing,42\n",
        "Edsger W.,Dijkstra,72\n",
        "Donald,Knuth,87\n",
        "Dennis,Ritchie,70 \n",
        "```\n",
        "\n",
        "Usually, the first line is reserved for the names of the columns in a spreadsheet. Now,\n",
        "let us create this file:\n"
      ]
    },
    {
      "cell_type": "code",
      "execution_count": 18,
      "id": "1793872d99c5dec0c5bdee64e2ec8b2a",
      "metadata": {
        "collapsed": false,
        "jupyter": {
          "outputs_hidden": false
        }
      },
      "outputs": [],
      "source": [
        "content = '''Name,Surname,Age\n",
        "Ada,Lovelace,37\n",
        "John,von Neumann,53\n",
        "Alan,Turing,42\n",
        "Edsger W.,Dijkstra,72\n",
        "Donald,Knuth,87\n",
        "Dennis,Ritchie,70'''\n",
        "fp = open(\"first.csv\", \"w\")    # open for writing\n",
        "fp.write(content)              # write in a single operation, practical for small files\n",
        "fp.close()"
      ]
    },
    {
      "cell_type": "markdown",
      "id": "6d973c3a64d7df6f9b1f3964a58b1fb7",
      "metadata": {},
      "source": [
        "\n",
        "Our next task is to read this file into the memory as a list of dictionaries, as: `[{\"Name\":\"Ada\", \"Surname\":\"Lovelace\",\"Age\":\"37\"},...]`\n",
        "We need to read the file line by line, extract the components using the\n",
        "`split()` function, then create the dictionary. Then, we can append it\n",
        "to a result list. For example:\n"
      ]
    },
    {
      "cell_type": "code",
      "execution_count": 19,
      "id": "7626dd0a81318ee7e2d8d9ec687d6443",
      "metadata": {
        "collapsed": false,
        "jupyter": {
          "outputs_hidden": false
        }
      },
      "outputs": [
        {
          "name": "stdout",
          "output_type": "stream",
          "text": [
            "<class 'list'>\n",
            "[{'Name': 'Ada', 'Surname': 'Lovelace', 'Age': '37'}, {'Name': 'John', 'Surname': 'von Neumann', 'Age': '53'}, {'Name': 'Alan', 'Surname': 'Turing', 'Age': '42'}, {'Name': 'Edsger W.', 'Surname': 'Dijkstra', 'Age': '72'}, {'Name': 'Donald', 'Surname': 'Knuth', 'Age': '87'}, {'Name': 'Dennis', 'Surname': 'Ritchie', 'Age': '70'}]\n"
          ]
        }
      ],
      "source": [
        "fp = open(\"first.csv\",\"r\")              # open for reading\n",
        "\n",
        "line =  fp.readline()                   # read column names\n",
        "line = line.rstrip('\\n')                # get rid of new line\n",
        "colnames = line.split(',')              # list of column names\n",
        "\n",
        "result = []                             # resulting list of dictionaries\n",
        "line = fp.readline()\n",
        "while line != '':                       # end-of-file check\n",
        "    line = line.rstrip('\\n')\n",
        "    entry = {}                          # start with empty dictionary\n",
        "    c = 0                               # a counter to address column number\n",
        "    for v in line.split(','):           # in a loop process each column of the row\n",
        "        entry[colnames[c]] = v          # column name is index, value is from current row\n",
        "        c += 1\n",
        "    result.append(entry)                # add dictionary to result\n",
        "    line = fp.readline()                # read next line\n",
        "\n",
        "fp.close()\n",
        "print(type(result))\n",
        "print(result)"
      ]
    },
    {
      "cell_type": "markdown",
      "id": "86a310f4c32046083196537e7f52c91b",
      "metadata": {},
      "source": [
        "\n",
        "Let us improve this example by adding a column as a result of a\n",
        "computation. Let us calculate the age average and show the difference\n",
        "from the average as a new column. We need to go over all age values in\n",
        "the list, convert them to real values (so that we can do arithmetic on\n",
        "them), calculate the average, then go over all rows to add a new column.\n",
        "Then, go over the list again to export/write it into a new CSV file.\n"
      ]
    },
    {
      "cell_type": "code",
      "execution_count": 20,
      "id": "17e95f5b817d314802dad924a78c472b",
      "metadata": {
        "collapsed": false,
        "jupyter": {
          "outputs_hidden": false
        }
      },
      "outputs": [],
      "source": [
        "n = 0\n",
        "# Calculate the average\n",
        "sum = 0\n",
        "for entry in result:\n",
        "    sum += float(entry['Age'])\n",
        "    n += 1\n",
        "average = sum / n\n",
        "\n",
        "# Calculate the difference of each age from the average\n",
        "for entry in result:\n",
        "    entry['Avgdiff'] = str(float(entry['Age']) - average)\n",
        "\n",
        "# Write the updated content into another CSV file\n",
        "fp = open('second.csv', 'w')\n",
        "colnames = entry.keys()                # this returns the keys (column names) of the CSV file\n",
        "fp.write(','.join(colnames) + '\\n')    # write this as the first line with comma separated values\n",
        "for entry in result: # Go over each row\n",
        "    vals = []\n",
        "    for key in colnames: # Write each column on this row\n",
        "        vals.append(entry[key])        # extract values of entry, entry.values() is a short version of this\n",
        "    fp.write(','.join(vals) + '\\n')\n",
        "\n",
        "# Finished, close the file\n",
        "fp.close()"
      ]
    },
    {
      "cell_type": "markdown",
      "id": "49e16564eb94ead11ea54ba910402e86",
      "metadata": {},
      "source": [
        "\n",
        "The content of the file ‘second.csv’, after this code runs is as follows:\n",
        "\n",
        "\n",
        "```\n",
        "Name,Surname,Age,Avgdiff\n",
        "Ada,Lovelace,37,-22.833333333333336\n",
        "John,von Neumann,53,-6.833333333333336\n",
        "Alan,Turing,42,-17.833333333333336\n",
        "Edsger W.,Dijkstra,72,12.166666666666664\n",
        "Donald,Knuth,85,25.166666666666664\n",
        "Dennis,Ritchie,70,10.166666666666664\n",
        "```\n",
        "\n",
        "## 7.7 Formatting Files\n",
        "<span id=\"chapters_ch8_file_handling_formatting_files\"> </span>\n",
        "\n",
        "Sometimes readability is important for text files, especially if data is\n",
        "in a tabular form. For example, seeing all related data in a column\n",
        "starting at the same position can improve readability significantly. The\n",
        "following shows the unformatted and formatted versions of the same data\n",
        "side by side:\n",
        "\n",
        "\n",
        "```\n",
        "        UNFORMATTED                                            FORMATTED\n",
        "Name,Surname,Age,Avgdiff                   Name      , Surname             , Age  , Avgdiff\n",
        "Ada,Lovelace,37,-22.833333333333336        Ada       , Lovelace            ,    37, -22.833\n",
        "John,von Neumann,53,-6.833333333333336     John      , von Neumann         ,    53,  -6.833\n",
        "Alan,Turing,42,-17.833333333333336         Alan      , Turing              ,    42, -17.833\n",
        "Edsger W.,Dijkstra,72,12.166666666666664   Edsger W. , Dijkstra            ,    72,  12.167\n",
        "Donald,Knuth,85,25.166666666666664         Donald    , Knuth               ,    85,  25.167\n",
        "Dennis,Ritchie,70,10.166666666666664       Dennis    , Ritchie             ,    70,  10.167\n",
        "```\n",
        "\n",
        "In order to achieve this, you can use the `format()` method of a\n",
        "template string as in\n",
        "\n",
        "`'{:10}, {:20}, {:3d}, {:7.3f}'.format('Ada', 'Lovelace', 37, -22.833333333336)'`.\n",
        "\n",
        "Each `{}` in the template matches a data value in the arguments and specifies how the data will be converted as follows:\n",
        "\n",
        "  *  The value after `:` denotes the (minimum) width of the data. \n",
        "     To make a text fit a specified size with a smaller number of characters, spaces are added to the right side, \n",
        "     aligning the text to the left. \n",
        "  *  For integers, the number\n",
        "     is followed by a `d` to format it as a decimal value space-padded on\n",
        "     the left (right aligned). \n",
        "  *  When working with floating point values, you can format the output by specifying the number of digits after the decimal point. This is achieved by appending a period (.) followed by the desired digit count and the letter `f` to indicate the value as a float. The fraction part of the number will be rounded to match the specified number of digits.\n",
        "     \n",
        "\n",
        "The detailed description of `format()` is out of the scope of the book. For a detailed description, please refer to the Python reference manuals.\n",
        "\n",
        "Let us rewrite the output part of the code using formatted output:\n"
      ]
    },
    {
      "cell_type": "code",
      "execution_count": 21,
      "id": "f120ee1bc7fc70bc86c3ef4c0bb341fa",
      "metadata": {
        "collapsed": false,
        "jupyter": {
          "outputs_hidden": false
        }
      },
      "outputs": [],
      "source": [
        "template = '{:10}, {:20}, {:5d}, {:7.3f}\\n'\n",
        "fp = open('third.csv', 'w')\n",
        "colnames = entry.keys()                   # this returns the keys of the CSV file\n",
        "fp.write('{:10}, {:20}, {:5}, {:7}\\n'.format(*colnames) )      # header, composed of coloumn names\n",
        "for entry in result:\n",
        "    fp.write(template.format(entry['Name'],entry['Surname'],int(entry['Age']),float(entry['Avgdiff']))) \n",
        "             # convert strings to numbers to respect number formatting\n",
        "fp.close()"
      ]
    },
    {
      "cell_type": "markdown",
      "id": "41c6c5355f024c6938fab45175128d52",
      "metadata": {},
      "source": [
        "Producing the file ‘third.csv’ with the following content:\n",
        "```\n",
        "Name      , Surname             , Age  , Avgdiff\n",
        "Ada       , Lovelace            ,    37, -22.833\n",
        "John      , von Neumann         ,    53,  -6.833\n",
        "Alan      , Turing              ,    42, -17.833\n",
        "Edsger W. , Dijkstra            ,    72,  12.167\n",
        "Donald    , Knuth               ,    85,  25.167\n",
        "Dennis    , Ritchie             ,    70,  10.167\n",
        "```\n",
        "\n",
        "## 7.8 Binary Files\n",
        "\n",
        "<span id=\"chapters_ch8_file_handling_binary_files\"> </span>\n",
        "\n",
        "So far, we have only looked at text files where all values are\n",
        "represented as human-readable text and all numerical values are\n",
        "represented as decimal strings. However, if you remember from , computers do not store and process numbers as decimal digit\n",
        "sequences. They store variables in binary format using the two’s complement method\n",
        "and the IEEE 754 floating point standard. In order to process, read and\n",
        "write decimal data in text, programming languages and libraries have to convert\n",
        "data from/to human readable form to/from the internal form. Even though you will not notice the time spent in conversion in small amounts of data, if you\n",
        "read 10 million  numbers, you start spending a significant amount of\n",
        "CPU time for converting data.\n",
        "\n",
        "Binary files, on the other hand, store numbers as they are stored in\n",
        "the computer’s memory. They are still sequences of bytes, but in a more\n",
        "structured way. For example, a 4-byte integer is kept as a sequence of 4\n",
        "bytes, each byte is a part of the number in two’s complement form.\n",
        "Reading a binary file is simply copying data to the memory; while doing so, either no\n",
        "conversion is performed or only the order of bytes is changed.\n",
        "\n",
        "A floating point number `0` takes 1 byte in a text file, but the\n",
        "number `3.1415926535897932384626433832795028` takes 34 bytes. In a\n",
        "binary file, the total size of a number is fixed as the size of the IEEE 754\n",
        "format, i.e., ~4 bytes on a 32-bit computer. Both `0` and the number \n",
        "$\\pi$ are stored in 4 bytes for single precision, 8 bytes for\n",
        "double precision, in a binary file.\n",
        "\n",
        "Keeping values in binary files have the following advantages:\n",
        "\n",
        "  1. It is more compact: Data occupies less space in the file.\n",
        "\n",
        "  1. No decimal-to-binary conversion is required. More efficient in terms\n",
        "     of CPU usage.\n",
        "\n",
        "  1. Since sizes are fixed, randomly jumping to a location and reading\n",
        "     relevant data is possible. In a text file, you have to start from the\n",
        "     beginning and read all lines up to the relevant data. This kind of\n",
        "     usage is a more advanced case and harder to understand for beginners.\n",
        "\n",
        "On the other hand, using text files has the following advantages:\n",
        "  1. Files are human-readable and editable. Users can change data using a\n",
        "     standard editor. In binary files, special software has to be used.\n",
        "\n",
        "  1. File format is more flexible, using `variablename:value` patterns\n",
        "     in the file, data can be stored in any order in a flexible way. This\n",
        "     is why text files are often used as configuration files.\n",
        "\n",
        "Most of the special formats with `.exe`, `.xls`, `.zip`, `.pdf`\n",
        "extensions are binary file formats.\n",
        "\n",
        "**Note:** Binary files are kept out of the scope of this book. The following\n",
        "paragraphs give a couple of pointers for curious readers.\n",
        "\n",
        "In order to use binary files:\n",
        "  1. You need to add `'b'` character in the second argument of the \n",
        "`open()` method as: `open('test.bin','rb')` or\n",
        "`open('test.bin','wb')`.\n",
        "\n",
        "  1. Binary I/O requires `bytes` typed values instead of `str` typed\n",
        "     values. `bytes` is a sequence of bytes. Elements of a byte sequence\n",
        "     are not printable in contrast to `str`.\n",
        "\n",
        "  1. Python has the `struct` module for converting any value into `bytes`\n",
        "     value. `struct.pack(format, values)` converts values into\n",
        "`bytes`. Computationally this conversion is much more cheaper\n",
        "      than decimal to binary conversion.\n",
        "\n",
        "  1. `struct.unpack(format, bytesval)` can be used to convert `bytes`\n",
        "     value into Python values. It is much cheaper than binary-to-decimal\n",
        "     conversion.\n",
        "\n",
        "  1. `read()`, `write()` can be used as usual. In `read(nbytes)`,\n",
        "     data size should be given. `struct.calcsize(format)` can be used to\n",
        "     calculate data size from format.\n",
        "\n",
        "The following is an example of binary I/O. Assume the binary file\n",
        "contains an integer $N$, for the number of points, followed by\n",
        "$2 \\times N$ floating point values. Let us write and then read\n",
        "this data:\n"
      ]
    },
    {
      "cell_type": "code",
      "execution_count": 22,
      "id": "11737c601f8c78c779273b09d1e0d776",
      "metadata": {
        "collapsed": false,
        "jupyter": {
          "outputs_hidden": false
        }
      },
      "outputs": [
        {
          "name": "stdout",
          "output_type": "stream",
          "text": [
            "The read & converted points are: [(1.0, 1.0), (2.5, 3.4), (5.4, 3.3), (2.2, 1.121)]\n",
            "This is what binary data looks like:\n",
            "b'\\x04\\x00\\x00\\x00\\x00\\x00\\x00\\x00\\x00\\x00\\xf0?\\x00\\x00\\x00\\x00\\x00\\x00\\xf0?\\x00\\x00\\x00\\x00\\x00\\x00\\x04@333333\\x0b@\\x9a\\x99\\x99\\x99\\x99\\x99\\x15@ffffff\\n@\\x9a\\x99\\x99\\x99\\x99\\x99\\x01@V\\x0e-\\xb2\\x9d\\xef\\xf1?'\n"
          ]
        }
      ],
      "source": [
        "import struct\n",
        "\n",
        "points = [(1,1), (2.5, 3.4), (5.4,3.3), (2.2, 1.121)]\n",
        "\n",
        "# 1- Open and write the binary file\n",
        "fp = open(\"points.bin\", \"wb\")\n",
        "fp.write(struct.pack('i', len(points)))   # 'i' denotes a single integer value is converted into bytes\n",
        "\n",
        "for (x,y) in points:\n",
        "    fp.write(struct.pack('dd', x, y))     # 'dd' denotes two floating point values are converted into bytes\n",
        "\n",
        "fp.close()\n",
        "\n",
        "# 2- Open and read the binary file\n",
        "fp = open(\"points.bin\", \"rb\")             # open same file for reading\n",
        "content = fp.read(struct.calcsize('i'))   # read binary data with length sizeof integer bytes\n",
        "(n,) = struct.unpack('i', content)        # unpack returns a tuple, 1tuple in this case\n",
        "\n",
        "newpoints = []\n",
        "for i in range(n):                        # n times\n",
        "    content = fp.read(struct.calcsize('dd'))\n",
        "    (x,y) = struct.unpack('dd', content)  # read two floats\n",
        "    newpoints += [(x,y)]                  # append value at the end\n",
        "\n",
        "fp.close()\n",
        "\n",
        "# 3- Print the read and converted values\n",
        "print(\"The read & converted points are:\", newpoints)\n",
        "\n",
        "print(\"This is what binary data looks like:\")\n",
        "fp = open(\"points.bin\", \"rb\")\n",
        "print(fp.read())\n",
        "fp.close()"
      ]
    }
  ],
  "metadata": {
    "kernel_info": {
      "name": "Jupyter"
    },
    "kernelspec": {
      "display_name": "Python 3",
      "language": "python",
      "name": "python3"
    },
    "language_info": {
      "codemirror_mode": {
        "name": "ipython",
        "version": 3
      },
      "file_extension": ".py",
      "mimetype": "text/x-python",
      "name": "python",
      "nbconvert_exporter": "python",
      "pygments_lexer": "ipython3",
      "version": "3.13.5"
    }
  },
  "nbformat": 4,
  "nbformat_minor": 6
}
