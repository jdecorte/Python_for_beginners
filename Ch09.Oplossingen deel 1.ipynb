{
 "cells": [
  {
   "cell_type": "markdown",
   "id": "51d7ee2c",
   "metadata": {},
   "source": [
    "The Euclidean distance between two points $(a, b)$ and $(c, d)$ is defined as: $\\sqrt{(a - c)^2 +(b - d)^2}$.\n",
    "Write a Python code that reads $a,b,c,d$ from the user, calculates the Euclidean distance, and prints the result."
   ]
  },
  {
   "cell_type": "code",
   "execution_count": 2,
   "id": "8fe5fb27",
   "metadata": {},
   "outputs": [
    {
     "name": "stdout",
     "output_type": "stream",
     "text": [
      "The Euclidean distance between (a,b) and (c,d) is: 5.0\n"
     ]
    }
   ],
   "source": [
    "a = float(input(\"Enter a: \"))\n",
    "b = float(input(\"Enter b: \"))\n",
    "c = float(input(\"Enter c: \"))\n",
    "d = float(input(\"Enter d: \"))\n",
    "\n",
    "import math\n",
    "distance = math.sqrt((a - c) ** 2 + (b - d) ** 2)\n",
    "print(f\"The Euclidean distance between (a,b) and (c,d) is: {distance}\")"
   ]
  },
  {
   "cell_type": "markdown",
   "id": "236f90bb",
   "metadata": {},
   "source": [
    "A sphere of radius $R_1$ is made of plastic. There is a sphere-shaped hole of radius $R_2$ $(R_2<R_1)$ in the plastic sphere.    \n",
    "Write a Python code that reads  $R_1, R_2$ from the user,\n",
    "and prints the volume of plastic used. "
   ]
  },
  {
   "cell_type": "code",
   "execution_count": 3,
   "id": "0c478946",
   "metadata": {},
   "outputs": [
    {
     "name": "stdout",
     "output_type": "stream",
     "text": [
      "The volume of plastic used is: 154985.23757709644\n"
     ]
    }
   ],
   "source": [
    "r1 = float(input(\"Enter R1 (radius of the plastic sphere): \"))\n",
    "r2 = float(input(\"Enter R2 (radius of the hole): \"))\n",
    "import math\n",
    "volume_plastic = (4/3) * math.pi * (r1**3 - r2**3)\n",
    "print(f\"The volume of plastic used is: {volume_plastic}\")"
   ]
  },
  {
   "cell_type": "markdown",
   "id": "8d471952",
   "metadata": {},
   "source": [
    "Write a program that takes a list of strings and prints the frequency of each word in the list.\n",
    "    Hint: Make use of a dictionary.\n",
    "    Example: For the following list,\n",
    "\n",
    "```python\n",
    "[\"apple\", \"banana\", \"apple\", \"cherry\", \"orange\", \"banana\", \n",
    "\"cherry\", \"elderberry\", \"orange\", \"fig\", \"fig\", \"fig\"]\n",
    "```\n",
    "\n",
    "Your code should print the following: \n",
    "\n",
    "```python\n",
    "{'apple': 2, 'banana': 2, 'cherry': 2, 'orange': 2, 'elderberry': 1, 'fig': 3}\n",
    "```"
   ]
  },
  {
   "cell_type": "code",
   "execution_count": 1,
   "id": "62e2fb78",
   "metadata": {},
   "outputs": [
    {
     "name": "stdout",
     "output_type": "stream",
     "text": [
      "{'apple': 2, 'banana': 2, 'cherry': 2, 'orange': 2, 'elderberry': 1, 'fig': 3}\n"
     ]
    }
   ],
   "source": [
    "fruits =   [\"apple\", \"banana\", \"apple\", \"cherry\", \"orange\", \"banana\", \"cherry\", \"elderberry\", \"orange\", \"fig\", \"fig\", \"fig\"]\n",
    "frequencies = {}\n",
    "\n",
    "for fruit in fruits:\n",
    "    if fruit in frequencies:\n",
    "        frequencies[fruit] += 1\n",
    "    else:\n",
    "        frequencies[fruit] = 1\n",
    "\n",
    "print(frequencies)\n",
    "\n"
   ]
  }
 ],
 "metadata": {
  "kernelspec": {
   "display_name": "Python_for_beginners",
   "language": "python",
   "name": "python3"
  },
  "language_info": {
   "codemirror_mode": {
    "name": "ipython",
    "version": 3
   },
   "file_extension": ".py",
   "mimetype": "text/x-python",
   "name": "python",
   "nbconvert_exporter": "python",
   "pygments_lexer": "ipython3",
   "version": "3.12.11"
  }
 },
 "nbformat": 4,
 "nbformat_minor": 5
}
