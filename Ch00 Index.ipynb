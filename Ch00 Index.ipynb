{
  "cells": [
    {
      "cell_type": "markdown",
      "metadata": {},
      "source": [
        "# Programming with Python for Beginners\n",
        "\n",
        "## Table of Contents\n",
        "\n",
        "* <a href=\"./Ch01 Computing and Computers.ipynb\">Chapter 1. Computing and Computers</a>\n",
        "* <a href=\"./Ch02 Programming and Programming Languages.ipynb\">Chapter 2. Programming and Programming Languages</a>\n",
        "* <a href=\"./Ch03 Representation of Data.ipynb\">Chapter 3. Representation of Data</a>\n",
        "* <a href=\"./Ch04 Dive into Python.ipynb\">Chapter 4. Dive into Python</a>\n",
        "* <a href=\"./Ch05 Conditional and Repetitive Execution.ipynb\">Chapter 5. Conditional and Repetitive Execution</a>\n",
        "* <a href=\"./Ch06 Functions.ipynb\">Chapter 6. Functions</a>\n",
        "* <a href=\"./Ch07 File Handling.ipynb\">Chapter 7. File Handling</a>\n",
        "* Chapter 08. The Python ecosystem</a>\n",
        "  * <a href=\"./Ch08.1-numpy.ipynb\">Numerical mathematics: numpy</a>\n",
        "  * <a href=\"./Ch08.2-pandas.ipynb\">Tabular data: pandas</a>\n",
        "  * <a href=\"./Ch08.3-matplotlib.ipynb\">Curves: matplotlib</a>\n",
        "  * <a href=\"./Ch08.4-Explore.ipynb\">Explore the world of Python</a>\n",
        "* Oplossingen\n",
        "    * <a href=\"/Ch09.Oplossingen deel 1.ipynb\">Deel 1</a>\n",
        "    * <a href=\"/Ch09.Oplossingen deel 2.ipynb\">Deel 1</a>    \n"
      ]
    }
  ],
  "metadata": {
    "kernelspec": {
      "display_name": "Python_for_beginners",
      "language": "python",
      "name": "python3"
    },
    "language_info": {
      "codemirror_mode": {
        "name": "python",
        "version": 3
      },
      "file_extension": ".py",
      "mimetype": "text/x-python",
      "name": "python",
      "nbconvert_exporter": "python",
      "pygments_lexer": "ipython3",
      "version": "3.12.11"
    }
  },
  "nbformat": 4,
  "nbformat_minor": 4
}
