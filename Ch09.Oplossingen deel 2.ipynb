{
 "cells": [
  {
   "cell_type": "markdown",
   "id": "51d7ee2c",
   "metadata": {},
   "source": [
    "Write a rectangle that asks the user width and height and that draws a rectangle of 'x':\n",
    "\n",
    "```python\n",
    "xxxxxxxxxxxx  \n",
    "x          x  \n",
    "x          x  \n",
    "x          x  \n",
    "xxxxxxxxxxxx  \n",
    "```\n",
    "\n",
    "Check that only positive values (> 0) can be entered: refuse incorrect inputs and give the user the opportunity to reenter. \n",
    "\n",
    "Tips: \n",
    "- you can print a character without a newline with \n",
    "    ```python\n",
    "    print(\"x\",end=\"\")\n",
    "    ```\n",
    "- you can move to the next line with \n",
    "    ```python\n",
    "    print()\n",
    "    ```"
   ]
  },
  {
   "cell_type": "code",
   "execution_count": null,
   "id": "73e3a574",
   "metadata": {},
   "outputs": [
    {
     "name": "stdout",
     "output_type": "stream",
     "text": [
      "Height should be a positive number\n",
      "Height should be a positive number\n",
      "xxxxxx\n",
      "x    x\n",
      "x    x\n",
      "x    x\n",
      "x    x\n",
      "xxxxxx\n"
     ]
    }
   ],
   "source": [
    "# Vraag width en heigth op aan de user\n",
    "# Zorg voor correcte input: width en height > 0 en laat nog eens ingeven \n",
    "\n",
    "def get_side(side_name,extra=0):\n",
    "    side = 0\n",
    "    while side <= 0:\n",
    "        side = int(input(f\"Geef {side_name} in:\"))\n",
    "        if side <= 0:\n",
    "            print(f\"{side_name} moet groter zijn dan 0\") \n",
    "    return side   \n",
    "\n",
    "def oppervlakte(width:int,height:int)->int:\n",
    "    return width*height\n",
    "\n",
    "height = get_side(\"hoogte\")\n",
    "width = get_side(\"breedte\")\n",
    "\n",
    "# print(f\"Oppervlakte = {oppervlakte(width,height)}\")\n",
    "\n",
    "print(f\"Oppervlakte van een rechthoek met breedte {width} en hoogte {height} = {oppervlakte(width,height)} m²\")\n",
    "     \n",
    "# Teken de rechthoek met vaste width en height (width = 20, height = 10)\n",
    "for i in range(height):\n",
    "    for j in range(width):\n",
    "        if i == 0 or j == 0 or i == height-1 or j == width-1:\n",
    "            print(\"x\",end=\"\")\n",
    "        else:\n",
    "            print(\" \",end=\"\")\n",
    "    print()\n"
   ]
  },
  {
   "cell_type": "markdown",
   "id": "f8a95144",
   "metadata": {},
   "source": [
    "---\n",
    "Write a function named  `find_indices()` that takes two arguments. The first argument is a list. The second argument is the element\n",
    "being searched for. The return value should be a list of indices at which the searched element is found. For example, \n",
    "```python\n",
    "find_indices([\"How\",\"much\",\"wood\",\"could\",\"a\",\"wood\",\"chuck\",\n",
    "        \"chuck\",\"if\",\"a\",\"wood\",\"chuck\",\"could\",\"chuck\",\n",
    "        \"wood?\"],\"chuck\")\n",
    "```\n",
    "should return `[6,7,11,13]`. The function should return an empty list if the searched element is not in the list."
   ]
  },
  {
   "cell_type": "code",
   "execution_count": 8,
   "id": "64f92668",
   "metadata": {},
   "outputs": [
    {
     "name": "stdout",
     "output_type": "stream",
     "text": [
      "[6, 7, 11, 13]\n"
     ]
    }
   ],
   "source": [
    "def find_indices(lijst,element):\n",
    "    indices = []\n",
    "    i = 0\n",
    "    for woord in lijst:\n",
    "        if woord == element:\n",
    "            indices.append(i)\n",
    "        i = i + 1\n",
    "    return indices\n",
    "\n",
    " \n",
    "Lijst = [\"Ik\", \"Ik\", \"Jij\"]\n",
    "\n",
    "indices = find_indices([\"How\",\"much\",\"wood\",\"could\",\"a\",\"wood\",\"chuck\",\n",
    "        \"chuck\",\"if\",\"a\",\"wood\",\"chuck\",\"could\",\"chuck\",\n",
    "        \"wood?\"],\"chuck\")\n",
    "\n",
    "print(indices)"
   ]
  },
  {
   "cell_type": "markdown",
   "id": "98c54310",
   "metadata": {},
   "source": [
    "***\n",
    "De csv-file data/solar.csv bevat meterstanden van een groenestroommmeter van een particuliere installatie tussen 18/3/2023 en 18/10/2025. Bereken het aantal meterstanden en de gemiddelde meterstand in die periode. "
   ]
  },
  {
   "cell_type": "code",
   "execution_count": 18,
   "id": "5559b3cb",
   "metadata": {},
   "outputs": [
    {
     "name": "stdout",
     "output_type": "stream",
     "text": [
      "apple\n"
     ]
    }
   ],
   "source": [
    "print(\"apple\")"
   ]
  },
  {
   "cell_type": "code",
   "execution_count": 24,
   "id": "b7a570ea",
   "metadata": {},
   "outputs": [
    {
     "name": "stdout",
     "output_type": "stream",
     "text": [
      "['\"timestamp\"', '\"solar\"']\n",
      "aantal meterstanden = 87808\n",
      "gemiddelde = 35415.581428698446 kWh\n"
     ]
    }
   ],
   "source": [
    "# Bereken het aantal meterstanden en de gemiddelde meterstand in die periode. \n",
    "fp = open(\"data/solar.csv\",\"r\")              # open for reading\n",
    "\n",
    "line =  fp.readline()                   # read column names\n",
    "line = line.rstrip('\\n')                # get rid of new line\n",
    "colnames = line.split(',')              # list of column names\n",
    "print(colnames)\n",
    "\n",
    "teller = 0\n",
    "som = 0\n",
    "line = fp.readline()\n",
    "while line != '':                       # end-of-file check\n",
    "    teller += 1\n",
    "    line = line.rstrip('\\n')\n",
    "    # print(line)\n",
    "    values = line.split(',')\n",
    "    # print(values[1])\n",
    "    meterstand = values[1].rstrip('\"')\n",
    "    meterstand = meterstand.lstrip('\"')\n",
    "    # print(meterstand)\n",
    "    meterstand = float(meterstand)\n",
    "    som += meterstand\n",
    "\n",
    "    line = fp.readline()                # read next line\n",
    "\n",
    "print(f\"aantal meterstanden = {teller}\")\n",
    "print(f\"gemiddelde = {som/teller} kWh\")\n",
    "fp.close()\n"
   ]
  }
 ],
 "metadata": {
  "kernelspec": {
   "display_name": "Python_for_beginners",
   "language": "python",
   "name": "python3"
  },
  "language_info": {
   "codemirror_mode": {
    "name": "ipython",
    "version": 3
   },
   "file_extension": ".py",
   "mimetype": "text/x-python",
   "name": "python",
   "nbconvert_exporter": "python",
   "pygments_lexer": "ipython3",
   "version": "3.12.11"
  }
 },
 "nbformat": 4,
 "nbformat_minor": 5
}
